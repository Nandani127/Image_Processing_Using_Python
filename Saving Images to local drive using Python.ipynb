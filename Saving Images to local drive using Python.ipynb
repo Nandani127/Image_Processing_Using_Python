{
 "cells": [
  {
   "cell_type": "markdown",
   "metadata": {},
   "source": [
    "## Saving Images to local drive using Python"
   ]
  },
  {
   "cell_type": "markdown",
   "metadata": {},
   "source": [
    "- First read an image\n",
    "- Do some processing to image \n",
    "- then save the image using one of the methods"
   ]
  },
  {
   "cell_type": "markdown",
   "metadata": {},
   "source": [
    "### Using scikit-image\n",
    "\n",
    "imsave(file_name, image to be saved)"
   ]
  },
  {
   "cell_type": "code",
   "execution_count": 1,
   "metadata": {},
   "outputs": [
    {
     "name": "stderr",
     "output_type": "stream",
     "text": [
      "<ipython-input-1-24136550f1d7>:8: RuntimeWarning: Images with dimensions (M, N, 3) are interpreted as 2D+RGB by default. Use `multichannel=False` to interpret as 3D image with last dimension of length 3.\n",
      "  gaussian_img = filters.gaussian(img, sigma=1)\n",
      "Lossy conversion from float64 to uint8. Range [0, 1]. Convert image to uint8 prior to saving to suppress this warning.\n"
     ]
    }
   ],
   "source": [
    "from skimage import io\n",
    "\n",
    "img = io.imread(r\"C:\\Users\\Owner\\python\\Datasets\\Training\\Fire\\a.jpg\")\n",
    "\n",
    "# lets apply gaussian smoothing on the image\n",
    "\n",
    "from skimage import filters\n",
    "gaussian_img = filters.gaussian(img, sigma=1)\n",
    "\n",
    "#Save image using skimage\n",
    "# skimage converts float images to RGB and scale them accordingly\n",
    "io.imsave(\"saved_using_skimage.jpg\", gaussian_img)\n",
    "\n",
    "#File autoamtically gets saved to right format based on the extension.\n",
    "#We can define the exact library to be used to save files but defaults work ok."
   ]
  },
  {
   "cell_type": "code",
   "execution_count": 2,
   "metadata": {},
   "outputs": [],
   "source": [
    "#For tiff extensions it uses tifffile library to save images, in the background.\n",
    "#First, image needs to be converted to 8 bit unsigned integer.  \n",
    "from skimage import img_as_ubyte\n",
    "gaussian_img_8byte = img_as_ubyte(gaussian_img)\n",
    "io.imsave(\"saved_using_skimage.tif\", gaussian_img_8byte)\n",
    "\n",
    "#Saving images into tiff files..\n",
    "#USe tifffile library: pip install tifffile\n",
    "#First convert images to 8 bit and then use tifffile\n",
    "#import tifffile\n",
    "#tifffile.imwrite(\"saved_using_tifffile.tiff\", gaussian_img_8bit)\n"
   ]
  },
  {
   "cell_type": "markdown",
   "metadata": {},
   "source": [
    "### Using openCV\n",
    "\n",
    "imwrite(file_name, image to be saved)"
   ]
  },
  {
   "cell_type": "code",
   "execution_count": 3,
   "metadata": {},
   "outputs": [
    {
     "data": {
      "text/plain": [
       "True"
      ]
     },
     "execution_count": 3,
     "metadata": {},
     "output_type": "execute_result"
    }
   ],
   "source": [
    "import cv2\n",
    "\n",
    "cv2.imwrite(\"saved_using_opencv.jpg\", gaussian_img)"
   ]
  },
  {
   "cell_type": "code",
   "execution_count": 5,
   "metadata": {},
   "outputs": [
    {
     "data": {
      "text/plain": [
       "True"
      ]
     },
     "execution_count": 5,
     "metadata": {},
     "output_type": "execute_result"
    }
   ],
   "source": [
    "#Will succeed writing an image but rounds off flaot\n",
    "#final image may not look good if saving float \n",
    "#so first convert float to 8 bit\n",
    "\n",
    "cv2.imwrite(\"saved_using_opencv2.jpg\", gaussian_img_8byte)"
   ]
  },
  {
   "cell_type": "code",
   "execution_count": 6,
   "metadata": {},
   "outputs": [
    {
     "data": {
      "text/plain": [
       "True"
      ]
     },
     "execution_count": 6,
     "metadata": {},
     "output_type": "execute_result"
    }
   ],
   "source": [
    "#This saves fine and the image should be fine but ...\n",
    "#The colors may be weird, if you are saving color images.\n",
    "#This is because opencv uses BGR instead of RGB.\n",
    "#If scolors are important then try working fully within opencv, \n",
    "#including reading and writing images.\n",
    "#Or, convert images from BGR to RGB when necessary.\n",
    "\n",
    "gaussian_img_8byte_RGB = cv2.cvtColor(gaussian_img_8byte, cv2.COLOR_BGR2RGB)\n",
    "cv2.imwrite(\"saved_using_opencv3.jpg\",gaussian_img_8byte_RGB)"
   ]
  },
  {
   "cell_type": "markdown",
   "metadata": {},
   "source": [
    "### Using matplotlib\n",
    "\n",
    "imsave(file_name, image to be saved)"
   ]
  },
  {
   "cell_type": "code",
   "execution_count": 7,
   "metadata": {},
   "outputs": [],
   "source": [
    "import matplotlib.pyplot as plt\n",
    "\n",
    "plt.imsave(\"saved_using_pyplot.jpg\", gaussian_img)\n",
    "\n",
    "#For gray images we can define a colormap using cmap"
   ]
  }
 ],
 "metadata": {
  "kernelspec": {
   "display_name": "Python 3",
   "language": "python",
   "name": "python3"
  },
  "language_info": {
   "codemirror_mode": {
    "name": "ipython",
    "version": 3
   },
   "file_extension": ".py",
   "mimetype": "text/x-python",
   "name": "python",
   "nbconvert_exporter": "python",
   "pygments_lexer": "ipython3",
   "version": "3.8.3"
  }
 },
 "nbformat": 4,
 "nbformat_minor": 4
}
