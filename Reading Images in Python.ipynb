{
 "cells": [
  {
   "cell_type": "markdown",
   "metadata": {},
   "source": [
    "## Reading Images in Python"
   ]
  },
  {
   "cell_type": "markdown",
   "metadata": {},
   "source": [
    "We read images to python primarily for processing.\n",
    "Processing on multidimensional data is easy with numpy arrays.\n",
    "\n",
    "The two popular ways are using skimage or opencv.\n",
    "skimage and opencv directly store imported images as numpy arrays.\n",
    "\n",
    "There is also a Pillow library but it does not convert to numpy array by default.\n",
    "Need to convert as a separate step... np.asarray(img)"
   ]
  },
  {
   "cell_type": "markdown",
   "metadata": {},
   "source": [
    "### Using scikit-image\n",
    "\n",
    "io.imread(file path)\n",
    "\n",
    " - to install scikit-image use pip install scikit-image\n",
    " - to import the package use import skimage"
   ]
  },
  {
   "cell_type": "code",
   "execution_count": 1,
   "metadata": {},
   "outputs": [],
   "source": [
    "# Reading image using skimage\n",
    "\n",
    "from skimage import io\n",
    "\n",
    "img = io.imread(r\"C:\\Users\\Owner\\python\\Datasets\\Training\\Fire\\a.jpg\")\n",
    "# The variable is a numpy array of type unsigned integer of 8 bytes (uint8)"
   ]
  },
  {
   "cell_type": "code",
   "execution_count": 7,
   "metadata": {},
   "outputs": [
    {
     "name": "stdout",
     "output_type": "stream",
     "text": [
      "[[[114  59   3]\n",
      "  [116  61   5]\n",
      "  [118  63   7]\n",
      "  ...\n",
      "  [250 178  32]\n",
      "  [250 178  32]\n",
      "  [250 178  32]]\n",
      "\n",
      " [[112  57   3]\n",
      "  [113  58   4]\n",
      "  [115  60   4]\n",
      "  ...\n",
      "  [252 177  32]\n",
      "  [252 177  32]\n",
      "  [252 177  32]]\n",
      "\n",
      " [[108  52   1]\n",
      "  [109  53   2]\n",
      "  [111  55   4]\n",
      "  ...\n",
      "  [250 175  30]\n",
      "  [250 175  30]\n",
      "  [250 175  30]]\n",
      "\n",
      " ...\n",
      "\n",
      " [[ 45  12   7]\n",
      "  [ 49  16  11]\n",
      "  [ 57  22  18]\n",
      "  ...\n",
      "  [  2   0   1]\n",
      "  [  2   0   1]\n",
      "  [  2   0   1]]\n",
      "\n",
      " [[ 55  15  13]\n",
      "  [ 61  21  19]\n",
      "  [ 68  29  24]\n",
      "  ...\n",
      "  [  2   0   1]\n",
      "  [  2   0   1]\n",
      "  [  2   0   1]]\n",
      "\n",
      " [[ 62  17  14]\n",
      "  [ 65  20  17]\n",
      "  [ 68  24  21]\n",
      "  ...\n",
      "  [  2   0   1]\n",
      "  [  2   0   1]\n",
      "  [  2   0   1]]]\n"
     ]
    }
   ],
   "source": [
    "print(img)"
   ]
  },
  {
   "cell_type": "code",
   "execution_count": 2,
   "metadata": {},
   "outputs": [
    {
     "name": "stdout",
     "output_type": "stream",
     "text": [
      "<class 'numpy.ndarray'>\n",
      "(183, 275, 3)\n"
     ]
    }
   ],
   "source": [
    "print(type(img))\n",
    "print(img.shape)    # (y,x,c)\n",
    "\n",
    "# y - Height = 183\n",
    "# x - Width = 275\n",
    "# c = channels = 3 (RGB)"
   ]
  },
  {
   "cell_type": "code",
   "execution_count": 3,
   "metadata": {},
   "outputs": [],
   "source": [
    "# Some image processing tasks require floating point image with values between 0 and 1\n",
    "# for this use function img_as_float of skimage\n",
    "\n",
    "from skimage import img_as_float\n",
    "img_float = img_as_float(img)"
   ]
  },
  {
   "cell_type": "code",
   "execution_count": 8,
   "metadata": {},
   "outputs": [
    {
     "name": "stdout",
     "output_type": "stream",
     "text": [
      "[[[0.44705882 0.23137255 0.01176471]\n",
      "  [0.45490196 0.23921569 0.01960784]\n",
      "  [0.4627451  0.24705882 0.02745098]\n",
      "  ...\n",
      "  [0.98039216 0.69803922 0.1254902 ]\n",
      "  [0.98039216 0.69803922 0.1254902 ]\n",
      "  [0.98039216 0.69803922 0.1254902 ]]\n",
      "\n",
      " [[0.43921569 0.22352941 0.01176471]\n",
      "  [0.44313725 0.22745098 0.01568627]\n",
      "  [0.45098039 0.23529412 0.01568627]\n",
      "  ...\n",
      "  [0.98823529 0.69411765 0.1254902 ]\n",
      "  [0.98823529 0.69411765 0.1254902 ]\n",
      "  [0.98823529 0.69411765 0.1254902 ]]\n",
      "\n",
      " [[0.42352941 0.20392157 0.00392157]\n",
      "  [0.42745098 0.20784314 0.00784314]\n",
      "  [0.43529412 0.21568627 0.01568627]\n",
      "  ...\n",
      "  [0.98039216 0.68627451 0.11764706]\n",
      "  [0.98039216 0.68627451 0.11764706]\n",
      "  [0.98039216 0.68627451 0.11764706]]\n",
      "\n",
      " ...\n",
      "\n",
      " [[0.17647059 0.04705882 0.02745098]\n",
      "  [0.19215686 0.0627451  0.04313725]\n",
      "  [0.22352941 0.08627451 0.07058824]\n",
      "  ...\n",
      "  [0.00784314 0.         0.00392157]\n",
      "  [0.00784314 0.         0.00392157]\n",
      "  [0.00784314 0.         0.00392157]]\n",
      "\n",
      " [[0.21568627 0.05882353 0.05098039]\n",
      "  [0.23921569 0.08235294 0.0745098 ]\n",
      "  [0.26666667 0.11372549 0.09411765]\n",
      "  ...\n",
      "  [0.00784314 0.         0.00392157]\n",
      "  [0.00784314 0.         0.00392157]\n",
      "  [0.00784314 0.         0.00392157]]\n",
      "\n",
      " [[0.24313725 0.06666667 0.05490196]\n",
      "  [0.25490196 0.07843137 0.06666667]\n",
      "  [0.26666667 0.09411765 0.08235294]\n",
      "  ...\n",
      "  [0.00784314 0.         0.00392157]\n",
      "  [0.00784314 0.         0.00392157]\n",
      "  [0.00784314 0.         0.00392157]]]\n"
     ]
    }
   ],
   "source": [
    "print(img_float)"
   ]
  },
  {
   "cell_type": "code",
   "execution_count": 5,
   "metadata": {},
   "outputs": [],
   "source": [
    "#There is a function in numpy astype that sets the type of array as defined by astype\n",
    "# but avoid using astype as it violates assumptions about dtype range.\n",
    "# for example float should range from 0 to 1 (or -1 to 1) but if you use \n",
    "#astype to convert to float, the values do not lie between 0 and 1.\n",
    "\n",
    "import numpy as np\n",
    "img2 = img.astype(np.float)"
   ]
  },
  {
   "cell_type": "code",
   "execution_count": 9,
   "metadata": {},
   "outputs": [
    {
     "name": "stdout",
     "output_type": "stream",
     "text": [
      "[[[114.  59.   3.]\n",
      "  [116.  61.   5.]\n",
      "  [118.  63.   7.]\n",
      "  ...\n",
      "  [250. 178.  32.]\n",
      "  [250. 178.  32.]\n",
      "  [250. 178.  32.]]\n",
      "\n",
      " [[112.  57.   3.]\n",
      "  [113.  58.   4.]\n",
      "  [115.  60.   4.]\n",
      "  ...\n",
      "  [252. 177.  32.]\n",
      "  [252. 177.  32.]\n",
      "  [252. 177.  32.]]\n",
      "\n",
      " [[108.  52.   1.]\n",
      "  [109.  53.   2.]\n",
      "  [111.  55.   4.]\n",
      "  ...\n",
      "  [250. 175.  30.]\n",
      "  [250. 175.  30.]\n",
      "  [250. 175.  30.]]\n",
      "\n",
      " ...\n",
      "\n",
      " [[ 45.  12.   7.]\n",
      "  [ 49.  16.  11.]\n",
      "  [ 57.  22.  18.]\n",
      "  ...\n",
      "  [  2.   0.   1.]\n",
      "  [  2.   0.   1.]\n",
      "  [  2.   0.   1.]]\n",
      "\n",
      " [[ 55.  15.  13.]\n",
      "  [ 61.  21.  19.]\n",
      "  [ 68.  29.  24.]\n",
      "  ...\n",
      "  [  2.   0.   1.]\n",
      "  [  2.   0.   1.]\n",
      "  [  2.   0.   1.]]\n",
      "\n",
      " [[ 62.  17.  14.]\n",
      "  [ 65.  20.  17.]\n",
      "  [ 68.  24.  21.]\n",
      "  ...\n",
      "  [  2.   0.   1.]\n",
      "  [  2.   0.   1.]\n",
      "  [  2.   0.   1.]]]\n"
     ]
    }
   ],
   "source": [
    "print(img2)"
   ]
  },
  {
   "cell_type": "code",
   "execution_count": 6,
   "metadata": {},
   "outputs": [],
   "source": [
    "# We can also convert floating point image to 8 bit unsigned int\n",
    "# use skimage.img_as_ubyte to do so\n",
    "\n",
    "from skimage import img_as_ubyte\n",
    "img_8bit = img_as_ubyte(img_float)"
   ]
  },
  {
   "cell_type": "code",
   "execution_count": 10,
   "metadata": {},
   "outputs": [
    {
     "name": "stdout",
     "output_type": "stream",
     "text": [
      "[[[114  59   3]\n",
      "  [116  61   5]\n",
      "  [118  63   7]\n",
      "  ...\n",
      "  [250 178  32]\n",
      "  [250 178  32]\n",
      "  [250 178  32]]\n",
      "\n",
      " [[112  57   3]\n",
      "  [113  58   4]\n",
      "  [115  60   4]\n",
      "  ...\n",
      "  [252 177  32]\n",
      "  [252 177  32]\n",
      "  [252 177  32]]\n",
      "\n",
      " [[108  52   1]\n",
      "  [109  53   2]\n",
      "  [111  55   4]\n",
      "  ...\n",
      "  [250 175  30]\n",
      "  [250 175  30]\n",
      "  [250 175  30]]\n",
      "\n",
      " ...\n",
      "\n",
      " [[ 45  12   7]\n",
      "  [ 49  16  11]\n",
      "  [ 57  22  18]\n",
      "  ...\n",
      "  [  2   0   1]\n",
      "  [  2   0   1]\n",
      "  [  2   0   1]]\n",
      "\n",
      " [[ 55  15  13]\n",
      "  [ 61  21  19]\n",
      "  [ 68  29  24]\n",
      "  ...\n",
      "  [  2   0   1]\n",
      "  [  2   0   1]\n",
      "  [  2   0   1]]\n",
      "\n",
      " [[ 62  17  14]\n",
      "  [ 65  20  17]\n",
      "  [ 68  24  21]\n",
      "  ...\n",
      "  [  2   0   1]\n",
      "  [  2   0   1]\n",
      "  [  2   0   1]]]\n"
     ]
    }
   ],
   "source": [
    "print(img_8bit)"
   ]
  },
  {
   "cell_type": "markdown",
   "metadata": {},
   "source": [
    "### Using openCV\n",
    "\n",
    "cv2.imread(file path, color)\n",
    "\n",
    "- to install openCV : pip install opencv-python\n",
    "- to import the package : import cv2"
   ]
  },
  {
   "cell_type": "markdown",
   "metadata": {},
   "source": [
    "In opencv we can import images in color, grey scale or unchanged using individual commands \n",
    "- cv2.IMREAD_COLOR : Loads a color image. Any transparency of image will be neglected. It is the default flag.\n",
    "- cv2.IMREAD_GRAYSCALE : Loads image in grayscale mode\n",
    "- cv2.IMREAD_UNCHANGED : Loads image as such including alpha channel\n",
    "\n",
    "Instead of these three flags, you can simply pass integers 1, 0 or -1 respectively."
   ]
  },
  {
   "cell_type": "code",
   "execution_count": 11,
   "metadata": {},
   "outputs": [
    {
     "name": "stdout",
     "output_type": "stream",
     "text": [
      "[[ 69  71  73 ... 183 183 183]\n",
      " [ 67  68  70 ... 183 183 183]\n",
      " [ 63  64  66 ... 181 181 181]\n",
      " ...\n",
      " [ 21  25  32 ...   1   1   1]\n",
      " [ 27  33  40 ...   1   1   1]\n",
      " [ 30  33  37 ...   1   1   1]]\n"
     ]
    }
   ],
   "source": [
    "# images opened using opencv are also numpy arrays\n",
    "import cv2\n",
    "\n",
    "gray_image = cv2.imread(r\"C:\\Users\\Owner\\python\\Datasets\\Training\\Fire\\a.jpg\", 0)\n",
    "print(gray_image)"
   ]
  },
  {
   "cell_type": "code",
   "execution_count": 12,
   "metadata": {},
   "outputs": [
    {
     "name": "stdout",
     "output_type": "stream",
     "text": [
      "[[[  3  59 114]\n",
      "  [  5  61 116]\n",
      "  [  7  63 118]\n",
      "  ...\n",
      "  [ 32 177 253]\n",
      "  [ 32 177 252]\n",
      "  [ 32 177 252]]\n",
      "\n",
      " [[  3  57 112]\n",
      "  [  4  58 113]\n",
      "  [  6  60 115]\n",
      "  ...\n",
      "  [ 32 177 253]\n",
      "  [ 32 177 252]\n",
      "  [ 32 177 252]]\n",
      "\n",
      " [[  1  53 106]\n",
      "  [  2  54 107]\n",
      "  [  4  55 111]\n",
      "  ...\n",
      "  [ 30 175 251]\n",
      "  [ 30 175 250]\n",
      "  [ 30 175 250]]\n",
      "\n",
      " ...\n",
      "\n",
      " [[  7  11  46]\n",
      "  [ 11  15  50]\n",
      "  [ 18  22  57]\n",
      "  ...\n",
      "  [  1   0   4]\n",
      "  [  1   0   2]\n",
      "  [  1   0   2]]\n",
      "\n",
      " [[ 13  15  55]\n",
      "  [ 19  21  61]\n",
      "  [ 24  29  68]\n",
      "  ...\n",
      "  [  1   0   4]\n",
      "  [  1   0   2]\n",
      "  [  1   0   2]]\n",
      "\n",
      " [[ 14  17  62]\n",
      "  [ 17  20  64]\n",
      "  [ 21  24  68]\n",
      "  ...\n",
      "  [  1   0   4]\n",
      "  [  1   0   2]\n",
      "  [  1   0   2]]]\n"
     ]
    }
   ],
   "source": [
    "color_image = cv2.imread(r\"C:\\Users\\Owner\\python\\Datasets\\Training\\Fire\\a.jpg\", 1)\n",
    "print(color_image)"
   ]
  },
  {
   "cell_type": "code",
   "execution_count": 13,
   "metadata": {},
   "outputs": [
    {
     "name": "stdout",
     "output_type": "stream",
     "text": [
      "<class 'numpy.ndarray'>\n",
      "(183, 275)\n",
      "<class 'numpy.ndarray'>\n",
      "(183, 275, 3)\n"
     ]
    }
   ],
   "source": [
    "print(type(gray_image))\n",
    "print(gray_image.shape)\n",
    "print(type(color_image))\n",
    "print(color_image.shape)"
   ]
  },
  {
   "cell_type": "markdown",
   "metadata": {},
   "source": [
    "### Difference between skimage imread and opencv is that\n",
    "### opencv reads images as BGR instead of RGB"
   ]
  },
  {
   "cell_type": "code",
   "execution_count": 14,
   "metadata": {},
   "outputs": [
    {
     "name": "stdout",
     "output_type": "stream",
     "text": [
      "[[[114  59   3]\n",
      "  [116  61   5]\n",
      "  [118  63   7]\n",
      "  ...\n",
      "  [253 177  32]\n",
      "  [252 177  32]\n",
      "  [252 177  32]]\n",
      "\n",
      " [[112  57   3]\n",
      "  [113  58   4]\n",
      "  [115  60   6]\n",
      "  ...\n",
      "  [253 177  32]\n",
      "  [252 177  32]\n",
      "  [252 177  32]]\n",
      "\n",
      " [[106  53   1]\n",
      "  [107  54   2]\n",
      "  [111  55   4]\n",
      "  ...\n",
      "  [251 175  30]\n",
      "  [250 175  30]\n",
      "  [250 175  30]]\n",
      "\n",
      " ...\n",
      "\n",
      " [[ 46  11   7]\n",
      "  [ 50  15  11]\n",
      "  [ 57  22  18]\n",
      "  ...\n",
      "  [  4   0   1]\n",
      "  [  2   0   1]\n",
      "  [  2   0   1]]\n",
      "\n",
      " [[ 55  15  13]\n",
      "  [ 61  21  19]\n",
      "  [ 68  29  24]\n",
      "  ...\n",
      "  [  4   0   1]\n",
      "  [  2   0   1]\n",
      "  [  2   0   1]]\n",
      "\n",
      " [[ 62  17  14]\n",
      "  [ 64  20  17]\n",
      "  [ 68  24  21]\n",
      "  ...\n",
      "  [  4   0   1]\n",
      "  [  2   0   1]\n",
      "  [  2   0   1]]]\n"
     ]
    }
   ],
   "source": [
    "# We can convert BGR image to RGB using COLOR_BGR2RGB\n",
    "\n",
    "img_opencv = cv2.cvtColor(color_image, cv2.COLOR_BGR2RGB)\n",
    "print(img_opencv)"
   ]
  }
 ],
 "metadata": {
  "kernelspec": {
   "display_name": "Python 3",
   "language": "python",
   "name": "python3"
  },
  "language_info": {
   "codemirror_mode": {
    "name": "ipython",
    "version": 3
   },
   "file_extension": ".py",
   "mimetype": "text/x-python",
   "name": "python",
   "nbconvert_exporter": "python",
   "pygments_lexer": "ipython3",
   "version": "3.8.3"
  }
 },
 "nbformat": 4,
 "nbformat_minor": 4
}
