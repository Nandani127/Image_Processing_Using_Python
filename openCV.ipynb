{
 "cells": [
  {
   "cell_type": "markdown",
   "metadata": {},
   "source": [
    "## Basic image operations using openCV"
   ]
  },
  {
   "cell_type": "markdown",
   "metadata": {},
   "source": [
    "openCV is a library of programming functions mainly aimed at computer vision.\n",
    "- Very good for images and videos, especially real time videos.\n",
    "\n",
    "It is used extensively for facial recognition, object recognition, motion tracking,\n",
    "optical character recognition, segmentation, and even for artificial neural netwroks. \n"
   ]
  },
  {
   "cell_type": "code",
   "execution_count": 1,
   "metadata": {},
   "outputs": [],
   "source": [
    "import cv2"
   ]
  },
  {
   "cell_type": "code",
   "execution_count": 2,
   "metadata": {},
   "outputs": [],
   "source": [
    "img = cv2.imread(\"RGB.jpg\", 1)    # color is BGR not RGB"
   ]
  },
  {
   "cell_type": "code",
   "execution_count": 3,
   "metadata": {},
   "outputs": [],
   "source": [
    "# Resize images\n",
    "\n",
    "#use cv2.resize. Can specify size or scaling factor.\n",
    "#Inter_cubic or Inter_linear for zooming.\n",
    "#Use INTER_AREA for shrinking\n",
    "#Following example zooms by 2 times.\n",
    "\n",
    "resized = cv2.resize(img, None, fx=2, fy=2, interpolation=cv2.INTER_CUBIC)\n",
    "\n",
    "cv2.imshow(\"original pic\", img)\n",
    "cv2.imshow(\"resized pic\", resized)\n",
    "cv2.waitKey(0)          \n",
    "cv2.destroyAllWindows() "
   ]
  },
  {
   "cell_type": "code",
   "execution_count": 4,
   "metadata": {},
   "outputs": [],
   "source": [
    "#Pixel values, split and merge channels\n",
    "\n",
    "gray_image = cv2.imread(\"RGB.jpg\", 0)\n",
    "img = cv2.imread(\"RGB.jpg\", 1)"
   ]
  },
  {
   "cell_type": "code",
   "execution_count": 5,
   "metadata": {},
   "outputs": [
    {
     "name": "stdout",
     "output_type": "stream",
     "text": [
      "(365, 281, 3)\n",
      "Top left [ 36  27 237]\n",
      "Top Right [  0 242 254]\n",
      "Bottom Left [ 77 177  35]\n",
      "Bottom Right [232 163   0]\n"
     ]
    }
   ],
   "source": [
    "print(img.shape)\n",
    "print(\"Top left\", img[0,0])\n",
    "print(\"Top Right\", img[0,180])\n",
    "print(\"Bottom Left\", img[250,0])\n",
    "print(\"Bottom Right\", img[250,180])"
   ]
  },
  {
   "cell_type": "code",
   "execution_count": 6,
   "metadata": {},
   "outputs": [],
   "source": [
    "cv2.imshow(\"Color image\", img)\n",
    "cv2.waitKey(0)\n",
    "cv2.destroyAllWindows()"
   ]
  },
  {
   "cell_type": "code",
   "execution_count": 7,
   "metadata": {},
   "outputs": [],
   "source": [
    "#Split and merging channels\n",
    "#Show individual color channels in the image\n",
    "\n",
    "blue = img[:,:,0]             #Show only blue pic. (BGR so B=0)\n",
    "red = img[:,:,1]              #Show only green pixels\n",
    "green = img[:,:,2]            #red only"
   ]
  },
  {
   "cell_type": "code",
   "execution_count": 8,
   "metadata": {},
   "outputs": [],
   "source": [
    "cv2.imshow(\"Blue pic\", blue)\n",
    "cv2.imshow(\"Red pic\", red)\n",
    "cv2.imshow(\"Green pic\", green)\n",
    "cv2.waitKey(6000)\n",
    "cv2.destroyAllWindows()"
   ]
  },
  {
   "cell_type": "code",
   "execution_count": 4,
   "metadata": {},
   "outputs": [],
   "source": [
    "#Or split all channels at once\n",
    "\n",
    "blue, red, green = cv2.split(img)\n",
    "cv2.imshow(\"Green pic\", green)\n",
    "cv2.waitKey(0)\n",
    "cv2.destroyAllWindows()"
   ]
  },
  {
   "cell_type": "code",
   "execution_count": 5,
   "metadata": {},
   "outputs": [],
   "source": [
    "#to merge each image into bgr\n",
    "\n",
    "img_merged = cv2.merge((blue, green, red))\n",
    "\n",
    "cv2.imshow(\"Merged Image\", img_merged)\n",
    "cv2.waitKey(0)\n",
    "cv2.destroyAllWindows()"
   ]
  },
  {
   "cell_type": "code",
   "execution_count": 6,
   "metadata": {},
   "outputs": [],
   "source": [
    "#Edge detection:\n",
    "\n",
    "img = cv2.imread(\"saved_using_skimage.jpg\", 0)\n",
    "edges = cv2.Canny(img,100,200)   #Image, min and max values\n",
    "\n",
    "cv2.imshow(\"Original pic: \",img)\n",
    "cv2.imshow(\"Canny\", edges)\n",
    "cv2.waitKey(0)          \n",
    "cv2.destroyAllWindows() "
   ]
  }
 ],
 "metadata": {
  "kernelspec": {
   "display_name": "Python 3",
   "language": "python",
   "name": "python3"
  },
  "language_info": {
   "codemirror_mode": {
    "name": "ipython",
    "version": 3
   },
   "file_extension": ".py",
   "mimetype": "text/x-python",
   "name": "python",
   "nbconvert_exporter": "python",
   "pygments_lexer": "ipython3",
   "version": "3.8.3"
  }
 },
 "nbformat": 4,
 "nbformat_minor": 4
}
